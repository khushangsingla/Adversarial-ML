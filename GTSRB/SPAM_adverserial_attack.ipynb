{
  "nbformat": 4,
  "nbformat_minor": 0,
  "metadata": {
    "colab": {
      "provenance": []
    },
    "kernelspec": {
      "name": "python3",
      "display_name": "Python 3"
    },
    "language_info": {
      "name": "python"
    }
  },
  "cells": [
    {
      "cell_type": "markdown",
      "source": [
        "# INSTALLING DEPENDENCIES\n",
        "(Might need to restart runtime to correctly install textattack)"
      ],
      "metadata": {
        "id": "D2HuPdg8P8wS"
      }
    },
    {
      "cell_type": "code",
      "source": [
        "!pip install textattack\n",
        "import numpy as np\n",
        "\n",
        "import tensorflow as tf\n",
        "import tensorflow_hub as hub\n",
        "import tensorflow_datasets as tfds\n",
        "\n",
        "import matplotlib.pyplot as plt\n",
        "from textattack.datasets import HuggingFaceDataset\n",
        "from textattack.attack_recipes import PWWSRen2019\n",
        "from textattack import Attacker\n",
        "import textattack\n",
        "\n",
        "import numpy as np\n",
        "import torch\n",
        "\n",
        "\n",
        "from textattack.models.wrappers import ModelWrapper\n",
        "\n",
        "import pandas as pd\n",
        "import codecs\n",
        "\n",
        "\n",
        "print(\"Version: \", tf.__version__)\n",
        "print(\"Eager mode: \", tf.executing_eagerly())\n",
        "print(\"Hub version: \", hub.__version__)\n",
        "print(\n",
        "    \"GPU is\", \"available\" if tf.config.list_physical_devices(\"GPU\") else \"NOT AVAILABLE\"\n",
        ")\n"
      ],
      "metadata": {
        "colab": {
          "base_uri": "https://localhost:8080/"
        },
        "id": "QF9xpLKAwAPn",
        "outputId": "c4e87e71-2979-43ac-f32d-d93691d0b021"
      },
      "execution_count": null,
      "outputs": [
        {
          "output_type": "stream",
          "name": "stdout",
          "text": [
            "Requirement already satisfied: textattack in /usr/local/lib/python3.10/dist-packages (0.3.9)\n",
            "Requirement already satisfied: bert-score>=0.3.5 in /usr/local/lib/python3.10/dist-packages (from textattack) (0.3.13)\n",
            "Requirement already satisfied: editdistance in /usr/local/lib/python3.10/dist-packages (from textattack) (0.6.2)\n",
            "Requirement already satisfied: flair in /usr/local/lib/python3.10/dist-packages (from textattack) (0.13.0)\n",
            "Requirement already satisfied: filelock in /usr/local/lib/python3.10/dist-packages (from textattack) (3.13.1)\n",
            "Requirement already satisfied: language-tool-python in /usr/local/lib/python3.10/dist-packages (from textattack) (2.7.1)\n",
            "Requirement already satisfied: lemminflect in /usr/local/lib/python3.10/dist-packages (from textattack) (0.2.3)\n",
            "Requirement already satisfied: lru-dict in /usr/local/lib/python3.10/dist-packages (from textattack) (1.3.0)\n",
            "Requirement already satisfied: datasets>=2.4.0 in /usr/local/lib/python3.10/dist-packages (from textattack) (2.15.0)\n",
            "Requirement already satisfied: nltk in /usr/local/lib/python3.10/dist-packages (from textattack) (3.8.1)\n",
            "Requirement already satisfied: numpy>=1.21.0 in /usr/local/lib/python3.10/dist-packages (from textattack) (1.23.5)\n",
            "Requirement already satisfied: pandas>=1.0.1 in /usr/local/lib/python3.10/dist-packages (from textattack) (1.5.3)\n",
            "Requirement already satisfied: scipy>=1.4.1 in /usr/local/lib/python3.10/dist-packages (from textattack) (1.11.3)\n",
            "Requirement already satisfied: torch!=1.8,>=1.7.0 in /usr/local/lib/python3.10/dist-packages (from textattack) (2.1.0+cu118)\n",
            "Requirement already satisfied: transformers>=4.30.0 in /usr/local/lib/python3.10/dist-packages (from textattack) (4.35.2)\n",
            "Requirement already satisfied: terminaltables in /usr/local/lib/python3.10/dist-packages (from textattack) (3.1.10)\n",
            "Requirement already satisfied: tqdm in /usr/local/lib/python3.10/dist-packages (from textattack) (4.66.1)\n",
            "Requirement already satisfied: word2number in /usr/local/lib/python3.10/dist-packages (from textattack) (1.1)\n",
            "Requirement already satisfied: num2words in /usr/local/lib/python3.10/dist-packages (from textattack) (0.5.13)\n",
            "Requirement already satisfied: more-itertools in /usr/local/lib/python3.10/dist-packages (from textattack) (10.1.0)\n",
            "Requirement already satisfied: PySocks!=1.5.7,>=1.5.6 in /usr/local/lib/python3.10/dist-packages (from textattack) (1.7.1)\n",
            "Requirement already satisfied: pinyin>=0.4.0 in /usr/local/lib/python3.10/dist-packages (from textattack) (0.4.0)\n",
            "Requirement already satisfied: jieba in /usr/local/lib/python3.10/dist-packages (from textattack) (0.42.1)\n",
            "Requirement already satisfied: OpenHowNet in /usr/local/lib/python3.10/dist-packages (from textattack) (2.0)\n",
            "Requirement already satisfied: pycld2 in /usr/local/lib/python3.10/dist-packages (from textattack) (0.41)\n",
            "Requirement already satisfied: click<8.1.0 in /usr/local/lib/python3.10/dist-packages (from textattack) (8.0.4)\n",
            "Requirement already satisfied: requests in /usr/local/lib/python3.10/dist-packages (from bert-score>=0.3.5->textattack) (2.31.0)\n",
            "Requirement already satisfied: matplotlib in /usr/local/lib/python3.10/dist-packages (from bert-score>=0.3.5->textattack) (3.7.1)\n",
            "Requirement already satisfied: packaging>=20.9 in /usr/local/lib/python3.10/dist-packages (from bert-score>=0.3.5->textattack) (23.2)\n",
            "Requirement already satisfied: pyarrow>=8.0.0 in /usr/local/lib/python3.10/dist-packages (from datasets>=2.4.0->textattack) (9.0.0)\n",
            "Requirement already satisfied: pyarrow-hotfix in /usr/local/lib/python3.10/dist-packages (from datasets>=2.4.0->textattack) (0.6)\n",
            "Requirement already satisfied: dill<0.3.8,>=0.3.0 in /usr/local/lib/python3.10/dist-packages (from datasets>=2.4.0->textattack) (0.3.7)\n",
            "Requirement already satisfied: xxhash in /usr/local/lib/python3.10/dist-packages (from datasets>=2.4.0->textattack) (3.4.1)\n",
            "Requirement already satisfied: multiprocess in /usr/local/lib/python3.10/dist-packages (from datasets>=2.4.0->textattack) (0.70.15)\n",
            "Requirement already satisfied: fsspec[http]<=2023.10.0,>=2023.1.0 in /usr/local/lib/python3.10/dist-packages (from datasets>=2.4.0->textattack) (2023.6.0)\n",
            "Requirement already satisfied: aiohttp in /usr/local/lib/python3.10/dist-packages (from datasets>=2.4.0->textattack) (3.8.6)\n",
            "Requirement already satisfied: huggingface-hub>=0.18.0 in /usr/local/lib/python3.10/dist-packages (from datasets>=2.4.0->textattack) (0.19.4)\n",
            "Requirement already satisfied: pyyaml>=5.1 in /usr/local/lib/python3.10/dist-packages (from datasets>=2.4.0->textattack) (6.0.1)\n",
            "Requirement already satisfied: python-dateutil>=2.8.1 in /usr/local/lib/python3.10/dist-packages (from pandas>=1.0.1->textattack) (2.8.2)\n",
            "Requirement already satisfied: pytz>=2020.1 in /usr/local/lib/python3.10/dist-packages (from pandas>=1.0.1->textattack) (2023.3.post1)\n",
            "Requirement already satisfied: typing-extensions in /usr/local/lib/python3.10/dist-packages (from torch!=1.8,>=1.7.0->textattack) (4.5.0)\n",
            "Requirement already satisfied: sympy in /usr/local/lib/python3.10/dist-packages (from torch!=1.8,>=1.7.0->textattack) (1.12)\n",
            "Requirement already satisfied: networkx in /usr/local/lib/python3.10/dist-packages (from torch!=1.8,>=1.7.0->textattack) (3.2.1)\n",
            "Requirement already satisfied: jinja2 in /usr/local/lib/python3.10/dist-packages (from torch!=1.8,>=1.7.0->textattack) (3.1.2)\n",
            "Requirement already satisfied: triton==2.1.0 in /usr/local/lib/python3.10/dist-packages (from torch!=1.8,>=1.7.0->textattack) (2.1.0)\n",
            "Requirement already satisfied: regex!=2019.12.17 in /usr/local/lib/python3.10/dist-packages (from transformers>=4.30.0->textattack) (2023.6.3)\n",
            "Requirement already satisfied: tokenizers<0.19,>=0.14 in /usr/local/lib/python3.10/dist-packages (from transformers>=4.30.0->textattack) (0.15.0)\n",
            "Requirement already satisfied: safetensors>=0.3.1 in /usr/local/lib/python3.10/dist-packages (from transformers>=4.30.0->textattack) (0.4.0)\n",
            "Requirement already satisfied: boto3>=1.20.27 in /usr/local/lib/python3.10/dist-packages (from flair->textattack) (1.29.6)\n",
            "Requirement already satisfied: bpemb>=0.3.2 in /usr/local/lib/python3.10/dist-packages (from flair->textattack) (0.3.4)\n",
            "Requirement already satisfied: conllu>=4.0 in /usr/local/lib/python3.10/dist-packages (from flair->textattack) (4.5.3)\n",
            "Requirement already satisfied: deprecated>=1.2.13 in /usr/local/lib/python3.10/dist-packages (from flair->textattack) (1.2.14)\n",
            "Requirement already satisfied: ftfy>=6.1.0 in /usr/local/lib/python3.10/dist-packages (from flair->textattack) (6.1.3)\n",
            "Requirement already satisfied: gdown>=4.4.0 in /usr/local/lib/python3.10/dist-packages (from flair->textattack) (4.6.6)\n",
            "Requirement already satisfied: gensim>=4.2.0 in /usr/local/lib/python3.10/dist-packages (from flair->textattack) (4.3.2)\n",
            "Requirement already satisfied: janome>=0.4.2 in /usr/local/lib/python3.10/dist-packages (from flair->textattack) (0.5.0)\n",
            "Requirement already satisfied: langdetect>=1.0.9 in /usr/local/lib/python3.10/dist-packages (from flair->textattack) (1.0.9)\n",
            "Requirement already satisfied: lxml>=4.8.0 in /usr/local/lib/python3.10/dist-packages (from flair->textattack) (4.9.3)\n",
            "Requirement already satisfied: mpld3>=0.3 in /usr/local/lib/python3.10/dist-packages (from flair->textattack) (0.5.9)\n",
            "Requirement already satisfied: pptree>=3.1 in /usr/local/lib/python3.10/dist-packages (from flair->textattack) (3.1)\n",
            "Requirement already satisfied: pytorch-revgrad>=0.2.0 in /usr/local/lib/python3.10/dist-packages (from flair->textattack) (0.2.0)\n",
            "Requirement already satisfied: scikit-learn>=1.0.2 in /usr/local/lib/python3.10/dist-packages (from flair->textattack) (1.2.2)\n",
            "Requirement already satisfied: segtok>=1.5.11 in /usr/local/lib/python3.10/dist-packages (from flair->textattack) (1.5.11)\n",
            "Requirement already satisfied: sqlitedict>=2.0.0 in /usr/local/lib/python3.10/dist-packages (from flair->textattack) (2.1.0)\n",
            "Requirement already satisfied: tabulate>=0.8.10 in /usr/local/lib/python3.10/dist-packages (from flair->textattack) (0.9.0)\n",
            "Requirement already satisfied: transformer-smaller-training-vocab>=0.2.3 in /usr/local/lib/python3.10/dist-packages (from flair->textattack) (0.3.2)\n",
            "Requirement already satisfied: urllib3<2.0.0,>=1.0.0 in /usr/local/lib/python3.10/dist-packages (from flair->textattack) (1.26.18)\n",
            "Requirement already satisfied: wikipedia-api>=0.5.7 in /usr/local/lib/python3.10/dist-packages (from flair->textattack) (0.6.0)\n",
            "Requirement already satisfied: semver<4.0.0,>=3.0.0 in /usr/local/lib/python3.10/dist-packages (from flair->textattack) (3.0.2)\n",
            "Requirement already satisfied: joblib in /usr/local/lib/python3.10/dist-packages (from nltk->textattack) (1.3.2)\n",
            "Requirement already satisfied: docopt>=0.6.2 in /usr/local/lib/python3.10/dist-packages (from num2words->textattack) (0.6.2)\n",
            "Requirement already satisfied: anytree in /usr/local/lib/python3.10/dist-packages (from OpenHowNet->textattack) (2.12.1)\n",
            "Requirement already satisfied: setuptools in /usr/local/lib/python3.10/dist-packages (from OpenHowNet->textattack) (67.7.2)\n",
            "Requirement already satisfied: botocore<1.33.0,>=1.32.6 in /usr/local/lib/python3.10/dist-packages (from boto3>=1.20.27->flair->textattack) (1.32.6)\n",
            "Requirement already satisfied: jmespath<2.0.0,>=0.7.1 in /usr/local/lib/python3.10/dist-packages (from boto3>=1.20.27->flair->textattack) (1.0.1)\n",
            "Requirement already satisfied: s3transfer<0.8.0,>=0.7.0 in /usr/local/lib/python3.10/dist-packages (from boto3>=1.20.27->flair->textattack) (0.7.0)\n",
            "Requirement already satisfied: sentencepiece in /usr/local/lib/python3.10/dist-packages (from bpemb>=0.3.2->flair->textattack) (0.1.99)\n",
            "Requirement already satisfied: wrapt<2,>=1.10 in /usr/local/lib/python3.10/dist-packages (from deprecated>=1.2.13->flair->textattack) (1.14.1)\n",
            "Requirement already satisfied: attrs>=17.3.0 in /usr/local/lib/python3.10/dist-packages (from aiohttp->datasets>=2.4.0->textattack) (23.1.0)\n",
            "Requirement already satisfied: charset-normalizer<4.0,>=2.0 in /usr/local/lib/python3.10/dist-packages (from aiohttp->datasets>=2.4.0->textattack) (3.3.2)\n",
            "Requirement already satisfied: multidict<7.0,>=4.5 in /usr/local/lib/python3.10/dist-packages (from aiohttp->datasets>=2.4.0->textattack) (6.0.4)\n",
            "Requirement already satisfied: async-timeout<5.0,>=4.0.0a3 in /usr/local/lib/python3.10/dist-packages (from aiohttp->datasets>=2.4.0->textattack) (4.0.3)\n",
            "Requirement already satisfied: yarl<2.0,>=1.0 in /usr/local/lib/python3.10/dist-packages (from aiohttp->datasets>=2.4.0->textattack) (1.9.2)\n",
            "Requirement already satisfied: frozenlist>=1.1.1 in /usr/local/lib/python3.10/dist-packages (from aiohttp->datasets>=2.4.0->textattack) (1.4.0)\n",
            "Requirement already satisfied: aiosignal>=1.1.2 in /usr/local/lib/python3.10/dist-packages (from aiohttp->datasets>=2.4.0->textattack) (1.3.1)\n",
            "Requirement already satisfied: wcwidth<0.3.0,>=0.2.12 in /usr/local/lib/python3.10/dist-packages (from ftfy>=6.1.0->flair->textattack) (0.2.12)\n",
            "Requirement already satisfied: six in /usr/local/lib/python3.10/dist-packages (from gdown>=4.4.0->flair->textattack) (1.16.0)\n",
            "Requirement already satisfied: beautifulsoup4 in /usr/local/lib/python3.10/dist-packages (from gdown>=4.4.0->flair->textattack) (4.11.2)\n",
            "Requirement already satisfied: smart-open>=1.8.1 in /usr/local/lib/python3.10/dist-packages (from gensim>=4.2.0->flair->textattack) (6.4.0)\n",
            "Requirement already satisfied: contourpy>=1.0.1 in /usr/local/lib/python3.10/dist-packages (from matplotlib->bert-score>=0.3.5->textattack) (1.2.0)\n",
            "Requirement already satisfied: cycler>=0.10 in /usr/local/lib/python3.10/dist-packages (from matplotlib->bert-score>=0.3.5->textattack) (0.12.1)\n",
            "Requirement already satisfied: fonttools>=4.22.0 in /usr/local/lib/python3.10/dist-packages (from matplotlib->bert-score>=0.3.5->textattack) (4.44.3)\n",
            "Requirement already satisfied: kiwisolver>=1.0.1 in /usr/local/lib/python3.10/dist-packages (from matplotlib->bert-score>=0.3.5->textattack) (1.4.5)\n",
            "Requirement already satisfied: pillow>=6.2.0 in /usr/local/lib/python3.10/dist-packages (from matplotlib->bert-score>=0.3.5->textattack) (9.4.0)\n",
            "Requirement already satisfied: pyparsing>=2.3.1 in /usr/local/lib/python3.10/dist-packages (from matplotlib->bert-score>=0.3.5->textattack) (3.1.1)\n",
            "Requirement already satisfied: idna<4,>=2.5 in /usr/local/lib/python3.10/dist-packages (from requests->bert-score>=0.3.5->textattack) (3.4)\n",
            "Requirement already satisfied: certifi>=2017.4.17 in /usr/local/lib/python3.10/dist-packages (from requests->bert-score>=0.3.5->textattack) (2023.7.22)\n",
            "Requirement already satisfied: threadpoolctl>=2.0.0 in /usr/local/lib/python3.10/dist-packages (from scikit-learn>=1.0.2->flair->textattack) (3.2.0)\n",
            "Requirement already satisfied: protobuf in /usr/local/lib/python3.10/dist-packages (from transformers>=4.30.0->textattack) (3.20.3)\n",
            "Requirement already satisfied: MarkupSafe>=2.0 in /usr/local/lib/python3.10/dist-packages (from jinja2->torch!=1.8,>=1.7.0->textattack) (2.1.3)\n",
            "Requirement already satisfied: mpmath>=0.19 in /usr/local/lib/python3.10/dist-packages (from sympy->torch!=1.8,>=1.7.0->textattack) (1.3.0)\n",
            "Requirement already satisfied: accelerate>=0.20.3 in /usr/local/lib/python3.10/dist-packages (from transformers>=4.30.0->textattack) (0.24.1)\n",
            "Requirement already satisfied: soupsieve>1.2 in /usr/local/lib/python3.10/dist-packages (from beautifulsoup4->gdown>=4.4.0->flair->textattack) (2.5)\n",
            "Requirement already satisfied: psutil in /usr/local/lib/python3.10/dist-packages (from accelerate>=0.20.3->transformers>=4.30.0->textattack) (5.9.5)\n",
            "Version:  2.14.0\n",
            "Eager mode:  True\n",
            "Hub version:  0.15.0\n",
            "GPU is NOT AVAILABLE\n"
          ]
        }
      ]
    },
    {
      "cell_type": "markdown",
      "source": [
        "#READING INPUT FILE"
      ],
      "metadata": {
        "id": "lRCLTsLwQ_m5"
      }
    },
    {
      "cell_type": "code",
      "source": [
        "with codecs.open('spam.csv', 'r', encoding='ISO-8859-1') as f:\n",
        "    df = pd.read_csv(f)\n",
        "\n",
        "\n",
        "data = df.values.tolist()\n",
        "dataclean = []\n",
        "for example in data:\n",
        "  if example[0] == \"ham\":\n",
        "    dataclean.append((example[1],0))\n",
        "  if example[0] == \"spam\":\n",
        "    dataclean.append((example[1],1))\n",
        "\n",
        "\n",
        "\n",
        "train_data = dataclean[0:4000]\n",
        "test_data = dataclean[4000:5000]\n",
        "\n",
        "train_examples, train_labels = np.array(train_data)[:,0],np.array(train_data)[:,1]\n",
        "test_examples, test_labels = np.array(test_data)[:,0],np.array(test_data)[:,1]\n",
        "\n",
        "adversary_data = dataclean[5000:]\n"
      ],
      "metadata": {
        "id": "Vi9Uy2HH42_c"
      },
      "execution_count": null,
      "outputs": []
    },
    {
      "cell_type": "markdown",
      "source": [
        "#TRAINING MODEL TO CLASSIFY SMS AS SPAM"
      ],
      "metadata": {
        "id": "ysAxqGK-Rpik"
      }
    },
    {
      "cell_type": "code",
      "execution_count": null,
      "metadata": {
        "colab": {
          "base_uri": "https://localhost:8080/"
        },
        "id": "RH_yRRM6lxaZ",
        "outputId": "3afa48ab-7ece-400b-b970-1964f29057ce"
      },
      "outputs": [
        {
          "output_type": "stream",
          "name": "stdout",
          "text": [
            "Model: \"sequential_5\"\n",
            "_________________________________________________________________\n",
            " Layer (type)                Output Shape              Param #   \n",
            "=================================================================\n",
            " keras_layer_5 (KerasLayer)  (None, 20)                400020    \n",
            "                                                                 \n",
            " dense_10 (Dense)            (None, 16)                336       \n",
            "                                                                 \n",
            " dense_11 (Dense)            (None, 1)                 17        \n",
            "                                                                 \n",
            "=================================================================\n",
            "Total params: 400373 (1.53 MB)\n",
            "Trainable params: 400373 (1.53 MB)\n",
            "Non-trainable params: 0 (0.00 Byte)\n",
            "_________________________________________________________________\n",
            "Epoch 1/30\n"
          ]
        },
        {
          "output_type": "stream",
          "name": "stderr",
          "text": [
            "<ipython-input-51-3e94313d62fa>:33: DeprecationWarning: `np.float` is a deprecated alias for the builtin `float`. To silence this warning, use `float` by itself. Doing this will not modify any behavior and is safe. If you specifically wanted the numpy scalar type, use `np.float64` here.\n",
            "Deprecated in NumPy 1.20; for more details and guidance: https://numpy.org/devdocs/release/1.20.0-notes.html#deprecations\n",
            "  y_val = test_labels.astype(np.float)\n",
            "<ipython-input-51-3e94313d62fa>:34: DeprecationWarning: `np.float` is a deprecated alias for the builtin `float`. To silence this warning, use `float` by itself. Doing this will not modify any behavior and is safe. If you specifically wanted the numpy scalar type, use `np.float64` here.\n",
            "Deprecated in NumPy 1.20; for more details and guidance: https://numpy.org/devdocs/release/1.20.0-notes.html#deprecations\n",
            "  partial_y_train = train_labels.astype(np.float)\n"
          ]
        },
        {
          "output_type": "stream",
          "name": "stdout",
          "text": [
            "8/8 [==============================] - 2s 69ms/step - loss: 0.7681 - accuracy: 0.7387 - val_loss: 0.6463 - val_accuracy: 0.8350\n",
            "Epoch 2/30\n",
            "8/8 [==============================] - 0s 28ms/step - loss: 0.5816 - accuracy: 0.8690 - val_loss: 0.5009 - val_accuracy: 0.8830\n",
            "Epoch 3/30\n",
            "8/8 [==============================] - 0s 28ms/step - loss: 0.4652 - accuracy: 0.8900 - val_loss: 0.4121 - val_accuracy: 0.9020\n",
            "Epoch 4/30\n",
            "8/8 [==============================] - 0s 34ms/step - loss: 0.3940 - accuracy: 0.8978 - val_loss: 0.3576 - val_accuracy: 0.9040\n",
            "Epoch 5/30\n",
            "8/8 [==============================] - 0s 31ms/step - loss: 0.3489 - accuracy: 0.9013 - val_loss: 0.3226 - val_accuracy: 0.9090\n",
            "Epoch 6/30\n",
            "8/8 [==============================] - 0s 29ms/step - loss: 0.3188 - accuracy: 0.9045 - val_loss: 0.2982 - val_accuracy: 0.9150\n",
            "Epoch 7/30\n",
            "8/8 [==============================] - 0s 29ms/step - loss: 0.2962 - accuracy: 0.9100 - val_loss: 0.2799 - val_accuracy: 0.9180\n",
            "Epoch 8/30\n",
            "8/8 [==============================] - 0s 35ms/step - loss: 0.2781 - accuracy: 0.9135 - val_loss: 0.2648 - val_accuracy: 0.9240\n",
            "Epoch 9/30\n",
            "8/8 [==============================] - 0s 28ms/step - loss: 0.2628 - accuracy: 0.9180 - val_loss: 0.2518 - val_accuracy: 0.9280\n",
            "Epoch 10/30\n",
            "8/8 [==============================] - 0s 29ms/step - loss: 0.2494 - accuracy: 0.9235 - val_loss: 0.2403 - val_accuracy: 0.9310\n",
            "Epoch 11/30\n",
            "8/8 [==============================] - 0s 30ms/step - loss: 0.2377 - accuracy: 0.9293 - val_loss: 0.2299 - val_accuracy: 0.9340\n",
            "Epoch 12/30\n",
            "8/8 [==============================] - 0s 29ms/step - loss: 0.2269 - accuracy: 0.9333 - val_loss: 0.2207 - val_accuracy: 0.9340\n",
            "Epoch 13/30\n",
            "8/8 [==============================] - 0s 32ms/step - loss: 0.2172 - accuracy: 0.9390 - val_loss: 0.2122 - val_accuracy: 0.9380\n",
            "Epoch 14/30\n",
            "8/8 [==============================] - 0s 32ms/step - loss: 0.2080 - accuracy: 0.9417 - val_loss: 0.2045 - val_accuracy: 0.9390\n",
            "Epoch 15/30\n",
            "8/8 [==============================] - 0s 31ms/step - loss: 0.1998 - accuracy: 0.9467 - val_loss: 0.1975 - val_accuracy: 0.9420\n",
            "Epoch 16/30\n",
            "8/8 [==============================] - 0s 27ms/step - loss: 0.1919 - accuracy: 0.9505 - val_loss: 0.1910 - val_accuracy: 0.9430\n",
            "Epoch 17/30\n",
            "8/8 [==============================] - 0s 20ms/step - loss: 0.1846 - accuracy: 0.9523 - val_loss: 0.1850 - val_accuracy: 0.9440\n",
            "Epoch 18/30\n",
            "8/8 [==============================] - 0s 21ms/step - loss: 0.1778 - accuracy: 0.9540 - val_loss: 0.1793 - val_accuracy: 0.9460\n",
            "Epoch 19/30\n",
            "8/8 [==============================] - 0s 20ms/step - loss: 0.1714 - accuracy: 0.9582 - val_loss: 0.1740 - val_accuracy: 0.9460\n",
            "Epoch 20/30\n",
            "8/8 [==============================] - 0s 21ms/step - loss: 0.1653 - accuracy: 0.9600 - val_loss: 0.1692 - val_accuracy: 0.9480\n",
            "Epoch 21/30\n",
            "8/8 [==============================] - 0s 19ms/step - loss: 0.1596 - accuracy: 0.9607 - val_loss: 0.1646 - val_accuracy: 0.9490\n",
            "Epoch 22/30\n",
            "8/8 [==============================] - 0s 19ms/step - loss: 0.1541 - accuracy: 0.9628 - val_loss: 0.1603 - val_accuracy: 0.9500\n",
            "Epoch 23/30\n",
            "8/8 [==============================] - 0s 19ms/step - loss: 0.1488 - accuracy: 0.9643 - val_loss: 0.1563 - val_accuracy: 0.9500\n",
            "Epoch 24/30\n",
            "8/8 [==============================] - 0s 21ms/step - loss: 0.1438 - accuracy: 0.9645 - val_loss: 0.1526 - val_accuracy: 0.9510\n",
            "Epoch 25/30\n",
            "8/8 [==============================] - 0s 21ms/step - loss: 0.1390 - accuracy: 0.9655 - val_loss: 0.1490 - val_accuracy: 0.9540\n",
            "Epoch 26/30\n",
            "8/8 [==============================] - 0s 19ms/step - loss: 0.1344 - accuracy: 0.9678 - val_loss: 0.1456 - val_accuracy: 0.9550\n",
            "Epoch 27/30\n",
            "8/8 [==============================] - 0s 20ms/step - loss: 0.1300 - accuracy: 0.9685 - val_loss: 0.1423 - val_accuracy: 0.9580\n",
            "Epoch 28/30\n",
            "8/8 [==============================] - 0s 19ms/step - loss: 0.1258 - accuracy: 0.9700 - val_loss: 0.1391 - val_accuracy: 0.9580\n",
            "Epoch 29/30\n",
            "8/8 [==============================] - 0s 19ms/step - loss: 0.1216 - accuracy: 0.9712 - val_loss: 0.1363 - val_accuracy: 0.9600\n",
            "Epoch 30/30\n",
            "8/8 [==============================] - 0s 20ms/step - loss: 0.1176 - accuracy: 0.9720 - val_loss: 0.1338 - val_accuracy: 0.9610\n"
          ]
        }
      ],
      "source": [
        "#loading embedding model form tenserflow dataset\n",
        "model = \"https://tfhub.dev/google/tf2-preview/gnews-swivel-20dim/1\"\n",
        "hub_layer = hub.KerasLayer(\n",
        "    model, output_shape=[20], input_shape=[], dtype=tf.string, trainable=True\n",
        ")\n",
        "\n",
        "## adding a layer of classifier on top of embedding layer\n",
        "model = tf.keras.Sequential()\n",
        "model.add(hub_layer)\n",
        "model.add(tf.keras.layers.Dense(16, activation=\"relu\"))\n",
        "model.add(tf.keras.layers.Dense(1))\n",
        "\n",
        "model.summary()\n",
        "\n",
        "x_val = test_examples\n",
        "partial_x_train = train_examples\n",
        "\n",
        "y_val = test_labels.astype(np.float)\n",
        "partial_y_train = train_labels.astype(np.float)\n",
        "\n",
        "model.compile(\n",
        "    optimizer=\"adam\",\n",
        "    loss=tf.losses.BinaryCrossentropy(from_logits=True),\n",
        "    metrics=[\"accuracy\"],\n",
        ")\n",
        "\n",
        "\n",
        "# training model on loaded dataset\n",
        "history = model.fit(\n",
        "    partial_x_train,\n",
        "    partial_y_train,\n",
        "    epochs=30,\n",
        "    batch_size=512,\n",
        "    validation_data=(x_val, y_val),\n",
        "    verbose=1,\n",
        ")"
      ]
    },
    {
      "cell_type": "markdown",
      "source": [
        "#RUNNNIG ATTACK ON TRAINED MODEL"
      ],
      "metadata": {
        "id": "8h_fVvj5R3fR"
      }
    },
    {
      "cell_type": "code",
      "source": [
        "# declaring custom model wrapper to ensure output format dependencies\n",
        "class CustomTensorFlowModelWrapper(ModelWrapper):\n",
        "    def __init__(self, model):\n",
        "        self.model = model\n",
        "\n",
        "    def __call__(self, text_input_list):\n",
        "        text_array = np.array(text_input_list)\n",
        "        preds = self.model(text_array).numpy()\n",
        "        logits = torch.exp(-torch.tensor(preds))\n",
        "        logits = 1 / (1 + logits)\n",
        "        logits = logits.squeeze(dim=-1)\n",
        "        # Since this model only has a single output (between 0 or 1),\n",
        "        # we have to add the second dimension.\n",
        "        final_preds = torch.stack((1 - logits, logits), dim=1)\n",
        "        return final_preds"
      ],
      "metadata": {
        "id": "168-Po3KmcEe"
      },
      "execution_count": null,
      "outputs": []
    },
    {
      "cell_type": "code",
      "source": [
        "\n",
        "model_wrapper = CustomTensorFlowModelWrapper(model)\n",
        "\n",
        "attack_args = textattack.AttackArgs(\n",
        "    num_examples=40\n",
        ")\n",
        "\n",
        "dataset = textattack.datasets.Dataset(adversary_data)\n",
        "attack = PWWSRen2019.build(model_wrapper)\n",
        "attacker = Attacker(attack, dataset,attack_args)\n",
        "attacker.attack_dataset()\n"
      ],
      "metadata": {
        "colab": {
          "base_uri": "https://localhost:8080/"
        },
        "id": "IUNUtSyEzNeR",
        "outputId": "9c4465ca-51a5-41c8-9653-27449026e1aa"
      },
      "execution_count": null,
      "outputs": [
        {
          "output_type": "stream",
          "name": "stderr",
          "text": [
            "[nltk_data] Downloading package omw-1.4 to /root/nltk_data...\n",
            "[nltk_data]   Package omw-1.4 is already up-to-date!\n",
            "textattack: Unknown if model of class <class 'keras.src.engine.sequential.Sequential'> compatible with goal function <class 'textattack.goal_functions.classification.untargeted_classification.UntargetedClassification'>.\n"
          ]
        },
        {
          "output_type": "stream",
          "name": "stdout",
          "text": [
            "Attack(\n",
            "  (search_method): GreedyWordSwapWIR(\n",
            "    (wir_method):  weighted-saliency\n",
            "  )\n",
            "  (goal_function):  UntargetedClassification\n",
            "  (transformation):  WordSwapWordNet\n",
            "  (constraints): \n",
            "    (0): RepeatModification\n",
            "    (1): StopwordModification\n",
            "  (is_black_box):  True\n",
            ") \n",
            "\n"
          ]
        },
        {
          "output_type": "stream",
          "name": "stderr",
          "text": [
            "[Succeeded / Failed / Skipped / Total] 1 / 1 / 0 / 2:   5%|▌         | 2/40 [00:00<00:02, 13.07it/s]"
          ]
        },
        {
          "output_type": "stream",
          "name": "stdout",
          "text": [
            "--------------------------------------------- Result 1 ---------------------------------------------\n",
            "[[0 (97%)]] --> [[[FAILED]]]\n",
            "\n",
            "Nope. Since ayo travelled, he has forgotten his guy\n",
            "\n",
            "\n",
            "--------------------------------------------- Result 2 ---------------------------------------------\n",
            "[[0 (99%)]] --> [[1 (64%)]]\n",
            "\n",
            "You [[still]] [[around]]? Looking to pick up [[later]]\n",
            "\n",
            "You [[static]] [[approximately]]? Looking to pick up [[recent]]\n",
            "\n",
            "\n"
          ]
        },
        {
          "output_type": "stream",
          "name": "stderr",
          "text": [
            "\r[Succeeded / Failed / Skipped / Total] 2 / 1 / 0 / 3:   8%|▊         | 3/40 [00:00<00:04,  7.68it/s]"
          ]
        },
        {
          "output_type": "stream",
          "name": "stdout",
          "text": [
            "--------------------------------------------- Result 3 ---------------------------------------------\n",
            "[[1 (94%)]] --> [[0 (53%)]]\n",
            "\n",
            "CDs 4u: Congratulations ur [[awarded]] å£500 of CD gift [[vouchers]] or å£125 gift [[guaranteed]] & Freeentry 2 å£100 wkly [[draw]] xt MUSIC to 87066 TnCs www.ldew.com1win150ppmx3age16 \n",
            "\n",
            "CDs 4u: Congratulations ur [[present]] å£500 of CD gift [[verifier]] or å£125 gift [[insure]] & Freeentry 2 å£100 wkly [[depict]] xt MUSIC to 87066 TnCs www.ldew.com1win150ppmx3age16 \n",
            "\n",
            "\n"
          ]
        },
        {
          "output_type": "stream",
          "name": "stderr",
          "text": [
            "[Succeeded / Failed / Skipped / Total] 4 / 2 / 0 / 6:  15%|█▌        | 6/40 [00:01<00:06,  5.55it/s]"
          ]
        },
        {
          "output_type": "stream",
          "name": "stdout",
          "text": [
            "--------------------------------------------- Result 4 ---------------------------------------------\n",
            "[[0 (100%)]] --> [[1 (50%)]]\n",
            "\n",
            "There's [[someone]] here that has a year  &lt;#&gt;  [[toyota]] camry [[like]] mr olayiwola's own. Mileage is  &lt;#&gt; [[k]].its [[clean]] but i [[need]] to [[know]] how [[much]] will it [[sell]] for. If i can [[raise]] the [[dough]] for it how [[soon]] after [[landing]] will it [[sell]]. Holla [[back]].\n",
            "\n",
            "There's [[individual]] here that has a year  &lt;#&gt;  [[Toyota]] camry [[corresponding]] mr olayiwola's own. Mileage is  &lt;#&gt; [[M]].its [[cleanse]] but i [[require]] to [[recognize]] how [[often]] will it [[trade]] for. If i can [[upgrade]] the [[boodle]] for it how [[presently]] after [[land]] will it [[trade]]. Holla [[stake]].\n",
            "\n",
            "\n",
            "--------------------------------------------- Result 5 ---------------------------------------------\n",
            "[[0 (98%)]] --> [[[FAILED]]]\n",
            "\n",
            "Guess which pub im in? Im as happy as a pig in clover or whatever the saying is! \n",
            "\n",
            "\n",
            "--------------------------------------------- Result 6 ---------------------------------------------\n",
            "[[0 (58%)]] --> [[1 (60%)]]\n",
            "\n",
            "ILL B DOWN [[SOON]]\n",
            "\n",
            "ILL B DOWN [[presently]]\n",
            "\n",
            "\n"
          ]
        },
        {
          "output_type": "stream",
          "name": "stderr",
          "text": [
            "[Succeeded / Failed / Skipped / Total] 5 / 3 / 1 / 9:  22%|██▎       | 9/40 [00:01<00:04,  7.16it/s]"
          ]
        },
        {
          "output_type": "stream",
          "name": "stdout",
          "text": [
            "--------------------------------------------- Result 7 ---------------------------------------------\n",
            "[[0 (99%)]] --> [[1 (83%)]]\n",
            "\n",
            "[[Oh]] k. . [[I]] will [[come]] tomorrow\n",
            "\n",
            "[[OH]] k. . [[1]] will [[total]] tomorrow\n",
            "\n",
            "\n",
            "--------------------------------------------- Result 8 ---------------------------------------------\n",
            "[[0 (99%)]] --> [[[FAILED]]]\n",
            "\n",
            "Go fool dont cheat others ok\n",
            "\n",
            "\n",
            "--------------------------------------------- Result 9 ---------------------------------------------\n",
            "[[1 (75%)]] --> [[[SKIPPED]]]\n",
            "\n",
            "My mobile number.pls sms ur mail id.convey regards to achan,amma.Rakhesh.Qatar\n",
            "\n",
            "\n",
            "--------------------------------------------- Result 10 ---------------------------------------------\n"
          ]
        },
        {
          "output_type": "stream",
          "name": "stderr",
          "text": [
            "\r[Succeeded / Failed / Skipped / Total] 6 / 3 / 1 / 10:  25%|██▌       | 10/40 [00:01<00:04,  7.42it/s]"
          ]
        },
        {
          "output_type": "stream",
          "name": "stdout",
          "text": [
            "[[0 (95%)]] --> [[1 (61%)]]\n",
            "\n",
            "By the [[way]], 'rencontre' is to [[meet]] again. [[Mountains]] dont....\n",
            "\n",
            "By the [[agency]], 'rencontre' is to [[receive]] again. [[slew]] dont....\n",
            "\n",
            "\n"
          ]
        },
        {
          "output_type": "stream",
          "name": "stderr",
          "text": [
            "[Succeeded / Failed / Skipped / Total] 8 / 3 / 1 / 12:  30%|███       | 12/40 [00:01<00:04,  7.00it/s]"
          ]
        },
        {
          "output_type": "stream",
          "name": "stdout",
          "text": [
            "--------------------------------------------- Result 11 ---------------------------------------------\n",
            "[[1 (99%)]] --> [[0 (59%)]]\n",
            "\n",
            "You have WON a [[guaranteed]] å£1000 cash or a å£2000 [[prize]]. To claim yr [[prize]] [[call]] our customer [[service]] [[representative]] on 08714712412 between 10am-7pm [[Cost]] 10p\n",
            "\n",
            "You have WON a [[assure]] å£1000 cash or a å£2000 [[treasure]]. To claim yr [[treasure]] [[scream]] our customer [[serving]] [[voice]] on 08714712412 between 10am-7pm [[be]] 10p\n",
            "\n",
            "\n",
            "--------------------------------------------- Result 12 ---------------------------------------------\n",
            "[[0 (97%)]] --> [[1 (64%)]]\n",
            "\n",
            "U [[attend]] ur [[driving]] [[lesson]] how many [[times]] a wk [[n]] which [[day]]?\n",
            "\n",
            "U [[assist]] ur [[motor]] [[example]] how many [[meter]] a wk [[N]] which [[daytime]]?\n",
            "\n",
            "\n"
          ]
        },
        {
          "output_type": "stream",
          "name": "stderr",
          "text": [
            "\r[Succeeded / Failed / Skipped / Total] 8 / 4 / 1 / 13:  32%|███▎      | 13/40 [00:01<00:03,  7.10it/s]"
          ]
        },
        {
          "output_type": "stream",
          "name": "stdout",
          "text": [
            "--------------------------------------------- Result 13 ---------------------------------------------\n",
            "[[0 (97%)]] --> [[[FAILED]]]\n",
            "\n",
            "Uncle G, just checking up on you. Do have a rewarding month\n",
            "\n",
            "\n"
          ]
        },
        {
          "output_type": "stream",
          "name": "stderr",
          "text": [
            "[Succeeded / Failed / Skipped / Total] 9 / 5 / 1 / 15:  38%|███▊      | 15/40 [00:02<00:03,  6.69it/s]"
          ]
        },
        {
          "output_type": "stream",
          "name": "stdout",
          "text": [
            "--------------------------------------------- Result 14 ---------------------------------------------\n",
            "[[0 (100%)]] --> [[[FAILED]]]\n",
            "\n",
            "Hello boytoy ! Geeee ... I'm missing you today. I like to send you a tm and remind you I'm thinking of you ... And you are loved ... *loving kiss*\n",
            "\n",
            "\n",
            "--------------------------------------------- Result 15 ---------------------------------------------\n",
            "[[0 (100%)]] --> [[1 (64%)]]\n",
            "\n",
            "[[I]] [[think]] the other [[two]] still need to [[get]] cash but we can def be ready by [[9]]\n",
            "\n",
            "[[1]] [[intend]] the other [[ii]] still need to [[commence]] cash but we can def be ready by [[IX]]\n",
            "\n",
            "\n"
          ]
        },
        {
          "output_type": "stream",
          "name": "stderr",
          "text": [
            "[Succeeded / Failed / Skipped / Total] 10 / 6 / 1 / 17:  42%|████▎     | 17/40 [00:02<00:03,  6.90it/s]"
          ]
        },
        {
          "output_type": "stream",
          "name": "stdout",
          "text": [
            "--------------------------------------------- Result 16 ---------------------------------------------\n",
            "[[0 (93%)]] --> [[[FAILED]]]\n",
            "\n",
            "Hey gals...U all wanna meet 4 dinner at nÌÂte? \n",
            "\n",
            "\n",
            "--------------------------------------------- Result 17 ---------------------------------------------\n",
            "[[1 (79%)]] --> [[0 (69%)]]\n",
            "\n",
            "Dear 0776xxxxxxx U've been invited to XCHAT. This is our final [[attempt]] to [[contact]] u! Txt CHAT to 86688 150p/MsgrcvdHG/Suite342/2Lands/[[Row]]/W1J6HL LDN 18yrs\n",
            "\n",
            "Dear 0776xxxxxxx U've been invited to XCHAT. This is our final [[attack]] to [[striking]] u! Txt CHAT to 86688 150p/MsgrcvdHG/Suite342/2Lands/[[words]]/W1J6HL LDN 18yrs\n",
            "\n",
            "\n"
          ]
        },
        {
          "output_type": "stream",
          "name": "stderr",
          "text": [
            "[Succeeded / Failed / Skipped / Total] 12 / 7 / 1 / 20:  50%|█████     | 20/40 [00:02<00:02,  6.71it/s]"
          ]
        },
        {
          "output_type": "stream",
          "name": "stdout",
          "text": [
            "--------------------------------------------- Result 18 ---------------------------------------------\n",
            "[[0 (100%)]] --> [[[FAILED]]]\n",
            "\n",
            "Babe ! What are you doing ? Where are you ? Who are you talking to ? Do you think of me ? Are you being a good boy? Are you missing me? Do you love me ?\n",
            "\n",
            "\n",
            "--------------------------------------------- Result 19 ---------------------------------------------\n",
            "[[0 (88%)]] --> [[1 (59%)]]\n",
            "\n",
            "[[Great]]! How is the [[office]] [[today]]?\n",
            "\n",
            "[[capital]]! How is the [[agency]] [[now]]?\n",
            "\n",
            "\n",
            "--------------------------------------------- Result 20 ---------------------------------------------\n",
            "[[0 (99%)]] --> [[1 (57%)]]\n",
            "\n",
            "It's [[cool]], we can last a [[little]] while. [[Getting]] more any [[time]] [[soon]]?\n",
            "\n",
            "It's [[aplomb]], we can last a [[fiddling]] while. [[commence]] more any [[clip]] [[presently]]?\n",
            "\n",
            "\n"
          ]
        },
        {
          "output_type": "stream",
          "name": "stderr",
          "text": [
            "[Succeeded / Failed / Skipped / Total] 13 / 8 / 1 / 22:  55%|█████▌    | 22/40 [00:03<00:02,  7.00it/s]"
          ]
        },
        {
          "output_type": "stream",
          "name": "stdout",
          "text": [
            "--------------------------------------------- Result 21 ---------------------------------------------\n",
            "[[0 (99%)]] --> [[[FAILED]]]\n",
            "\n",
            ":-( sad puppy noise\n",
            "\n",
            "\n",
            "--------------------------------------------- Result 22 ---------------------------------------------\n",
            "[[0 (98%)]] --> [[1 (61%)]]\n",
            "\n",
            "Yes its [[possible]] but dint [[try]]. Pls dont [[tell]] to any [[one]] k\n",
            "\n",
            "Yes its [[potential]] but dint [[essay]]. Pls dont [[order]] to any [[1]] k\n",
            "\n",
            "\n"
          ]
        },
        {
          "output_type": "stream",
          "name": "stderr",
          "text": [
            "[Succeeded / Failed / Skipped / Total] 14 / 10 / 1 / 25:  62%|██████▎   | 25/40 [00:03<00:02,  7.24it/s]"
          ]
        },
        {
          "output_type": "stream",
          "name": "stdout",
          "text": [
            "--------------------------------------------- Result 23 ---------------------------------------------\n",
            "[[0 (100%)]] --> [[1 (58%)]]\n",
            "\n",
            "[[Anyway]] holla at me whenever you're [[around]] because [[I]] [[need]] an [[excuse]] to [[go]] creep on [[people]] in [[sarasota]]\n",
            "\n",
            "[[anyhow]] holla at me whenever you're [[approximately]] because [[1]] [[require]] an [[exempt]] to [[X]] creep on [[citizenry]] in [[Sarasota]]\n",
            "\n",
            "\n",
            "--------------------------------------------- Result 24 ---------------------------------------------\n",
            "[[0 (99%)]] --> [[[FAILED]]]\n",
            "\n",
            "Where you. What happen\n",
            "\n",
            "\n",
            "--------------------------------------------- Result 25 ---------------------------------------------\n",
            "[[0 (100%)]] --> [[[FAILED]]]\n",
            "\n",
            "I was gonna ask you lol but i think its at 7\n",
            "\n",
            "\n"
          ]
        },
        {
          "output_type": "stream",
          "name": "stderr",
          "text": [
            "[Succeeded / Failed / Skipped / Total] 15 / 10 / 1 / 26:  65%|██████▌   | 26/40 [00:03<00:01,  7.10it/s]"
          ]
        },
        {
          "output_type": "stream",
          "name": "stdout",
          "text": [
            "--------------------------------------------- Result 26 ---------------------------------------------\n",
            "[[1 (98%)]] --> [[0 (52%)]]\n",
            "\n",
            "Ur cash-balance is currently [[500]] [[pounds]] - to maximize ur cash-in now [[send]] [[GO]] to 86688 only 150p/meg. CC: 08718720201 HG/Suite342/2lands [[Row]]/W1j6HL\n",
            "\n",
            "Ur cash-balance is currently [[d]] [[poke]] - to maximize ur cash-in now [[place]] [[die]] to 86688 only 150p/meg. CC: 08718720201 HG/Suite342/2lands [[words]]/W1j6HL\n",
            "\n",
            "\n"
          ]
        },
        {
          "output_type": "stream",
          "name": "stderr",
          "text": [
            "[Succeeded / Failed / Skipped / Total] 16 / 11 / 1 / 28:  72%|███████▎  | 29/40 [00:04<00:01,  7.10it/s]"
          ]
        },
        {
          "output_type": "stream",
          "name": "stdout",
          "text": [
            "--------------------------------------------- Result 27 ---------------------------------------------\n",
            "[[1 (97%)]] --> [[0 (52%)]]\n",
            "\n",
            "PRIVATE! Your 2003 [[Account]] Statement for [[shows]] 800 un-redeemed [[S]].I.M. points. [[Call]] 08715203685 Identifier Code:4xx26 Expires 13/10/04\n",
            "\n",
            "PRIVATE! Your 2003 [[story]] Statement for [[depict]] 800 un-redeemed [[south]].I.M. points. [[cry]] 08715203685 Identifier Code:4xx26 Expires 13/10/04\n",
            "\n",
            "\n",
            "--------------------------------------------- Result 28 ---------------------------------------------\n",
            "[[0 (99%)]] --> [[[FAILED]]]\n",
            "\n",
            "Go chase after her and run her over while she's crossing the street\n",
            "\n",
            "\n"
          ]
        },
        {
          "output_type": "stream",
          "name": "stderr",
          "text": [
            "\r[Succeeded / Failed / Skipped / Total] 16 / 11 / 2 / 29:  72%|███████▎  | 29/40 [00:04<00:01,  7.09it/s]"
          ]
        },
        {
          "output_type": "stream",
          "name": "stdout",
          "text": [
            "--------------------------------------------- Result 29 ---------------------------------------------\n",
            "[[0 (98%)]] --> [[[SKIPPED]]]\n",
            "\n",
            "I'd like to tell you my deepest darkest fantasies. Call me 09094646631 just 60p/min. To stop texts call 08712460324 (nat rate)\n",
            "\n",
            "\n"
          ]
        },
        {
          "output_type": "stream",
          "name": "stderr",
          "text": [
            "[Succeeded / Failed / Skipped / Total] 17 / 12 / 2 / 31:  80%|████████  | 32/40 [00:04<00:01,  7.17it/s]"
          ]
        },
        {
          "output_type": "stream",
          "name": "stdout",
          "text": [
            "--------------------------------------------- Result 30 ---------------------------------------------\n",
            "[[0 (98%)]] --> [[1 (71%)]]\n",
            "\n",
            "Is there [[coming]] friday is [[leave]] for pongal?do you [[get]] any news from your work [[place]].\n",
            "\n",
            "Is there [[upcoming]] friday is [[provide]] for pongal?do you [[receive]] any news from your work [[direct]].\n",
            "\n",
            "\n",
            "--------------------------------------------- Result 31 ---------------------------------------------\n",
            "[[0 (96%)]] --> [[[FAILED]]]\n",
            "\n",
            "Hey... Very inconvenient for your sis a not huh?\n",
            "\n",
            "\n",
            "--------------------------------------------- Result 32 ---------------------------------------------\n"
          ]
        },
        {
          "output_type": "stream",
          "name": "stderr",
          "text": [
            "[Succeeded / Failed / Skipped / Total] 18 / 13 / 2 / 33:  82%|████████▎ | 33/40 [00:04<00:00,  7.10it/s]"
          ]
        },
        {
          "output_type": "stream",
          "name": "stdout",
          "text": [
            "[[0 (99%)]] --> [[1 (54%)]]\n",
            "\n",
            "[[Ok]] i vl..do [[u]] [[know]] i [[got]] adsense approved..\n",
            "\n",
            "[[Oklahoma]] i vl..do [[uranium]] [[recognize]] i [[acquire]] adsense approved..\n",
            "\n",
            "\n",
            "--------------------------------------------- Result 33 ---------------------------------------------\n",
            "[[0 (100%)]] --> [[[FAILED]]]\n",
            "\n",
            "* Was really good to see you the other day dudette, been missing you!\n",
            "\n",
            "\n"
          ]
        },
        {
          "output_type": "stream",
          "name": "stderr",
          "text": [
            "[Succeeded / Failed / Skipped / Total] 19 / 15 / 3 / 37:  92%|█████████▎| 37/40 [00:04<00:00,  7.53it/s]"
          ]
        },
        {
          "output_type": "stream",
          "name": "stdout",
          "text": [
            "--------------------------------------------- Result 34 ---------------------------------------------\n",
            "[[0 (98%)]] --> [[1 (81%)]]\n",
            "\n",
            "[[I]] want to [[go]] to perumbavoor\n",
            "\n",
            "[[1]] want to [[X]] to perumbavoor\n",
            "\n",
            "\n",
            "--------------------------------------------- Result 35 ---------------------------------------------\n",
            "[[0 (99%)]] --> [[[FAILED]]]\n",
            "\n",
            "How many times i told in the stage all use to laugh. You not listen aha.\n",
            "\n",
            "\n",
            "--------------------------------------------- Result 36 ---------------------------------------------\n",
            "[[0 (99%)]] --> [[[SKIPPED]]]\n",
            "\n",
            "You won't believe it but it's true. It's Incredible Txts! Reply G now to learn truly amazing things that will blow your mind. From O2FWD only 18p/txt\n",
            "\n",
            "\n",
            "--------------------------------------------- Result 37 ---------------------------------------------\n",
            "[[0 (98%)]] --> [[[FAILED]]]\n",
            "\n",
            "(You didn't hear it from me)\n",
            "\n",
            "\n"
          ]
        },
        {
          "output_type": "stream",
          "name": "stderr",
          "text": [
            "[Succeeded / Failed / Skipped / Total] 19 / 16 / 3 / 38:  95%|█████████▌| 38/40 [00:05<00:00,  7.45it/s]"
          ]
        },
        {
          "output_type": "stream",
          "name": "stdout",
          "text": [
            "--------------------------------------------- Result 38 ---------------------------------------------\n",
            "[[0 (100%)]] --> [[[FAILED]]]\n",
            "\n",
            "Thanks for being there for me just to talk to on saturday. You are very dear to me. I cherish having you as a brother and role model.\n",
            "\n",
            "\n",
            "--------------------------------------------- Result 39 ---------------------------------------------\n"
          ]
        },
        {
          "output_type": "stream",
          "name": "stderr",
          "text": [
            "[Succeeded / Failed / Skipped / Total] 20 / 16 / 4 / 40: 100%|██████████| 40/40 [00:05<00:00,  7.52it/s]"
          ]
        },
        {
          "output_type": "stream",
          "name": "stdout",
          "text": [
            "[[0 (98%)]] --> [[1 (68%)]]\n",
            "\n",
            "Pls clarify [[back]] if an open return ticket that i have can be preponed for me to [[go]] [[back]] to kerala.\n",
            "\n",
            "Pls clarify [[stake]] if an open return ticket that i have can be preponed for me to [[X]] [[stake]] to kerala.\n",
            "\n",
            "\n",
            "--------------------------------------------- Result 40 ---------------------------------------------\n",
            "[[0 (59%)]] --> [[[SKIPPED]]]\n",
            "\n",
            "Natalie (20/F) is inviting you to be her friend. Reply YES-165 or NO-165 See her: www.SMS.ac/u/natalie2k9 STOP? Send STOP FRND to 62468\n",
            "\n",
            "\n",
            "\n",
            "+-------------------------------+--------+\n",
            "| Attack Results                |        |\n",
            "+-------------------------------+--------+\n",
            "| Number of successful attacks: | 20     |\n",
            "| Number of failed attacks:     | 16     |\n",
            "| Number of skipped attacks:    | 4      |\n",
            "| Original accuracy:            | 90.0%  |\n",
            "| Accuracy under attack:        | 40.0%  |\n",
            "| Attack success rate:          | 55.56% |\n",
            "| Average perturbed word %:     | 30.33% |\n",
            "| Average num. words per input: | 16.4   |\n",
            "| Avg num queries:              | 164.56 |\n",
            "+-------------------------------+--------+\n"
          ]
        },
        {
          "output_type": "stream",
          "name": "stderr",
          "text": [
            "\n"
          ]
        },
        {
          "output_type": "execute_result",
          "data": {
            "text/plain": [
              "[<textattack.attack_results.failed_attack_result.FailedAttackResult at 0x78c9faf9abc0>,\n",
              " <textattack.attack_results.successful_attack_result.SuccessfulAttackResult at 0x78c9fc2d9060>,\n",
              " <textattack.attack_results.successful_attack_result.SuccessfulAttackResult at 0x78ca18e17ca0>,\n",
              " <textattack.attack_results.successful_attack_result.SuccessfulAttackResult at 0x78ca1bc045b0>,\n",
              " <textattack.attack_results.failed_attack_result.FailedAttackResult at 0x78c9fc29b460>,\n",
              " <textattack.attack_results.successful_attack_result.SuccessfulAttackResult at 0x78c9fd560f10>,\n",
              " <textattack.attack_results.successful_attack_result.SuccessfulAttackResult at 0x78c9fd560af0>,\n",
              " <textattack.attack_results.failed_attack_result.FailedAttackResult at 0x78c9fc298be0>,\n",
              " <textattack.attack_results.skipped_attack_result.SkippedAttackResult at 0x78c9fb4189a0>,\n",
              " <textattack.attack_results.successful_attack_result.SuccessfulAttackResult at 0x78c9fb422200>,\n",
              " <textattack.attack_results.successful_attack_result.SuccessfulAttackResult at 0x78ca1c037b20>,\n",
              " <textattack.attack_results.successful_attack_result.SuccessfulAttackResult at 0x78c9fb422d40>,\n",
              " <textattack.attack_results.failed_attack_result.FailedAttackResult at 0x78c9fb3e79d0>,\n",
              " <textattack.attack_results.failed_attack_result.FailedAttackResult at 0x78c9fbf45f60>,\n",
              " <textattack.attack_results.successful_attack_result.SuccessfulAttackResult at 0x78c9fd560550>,\n",
              " <textattack.attack_results.failed_attack_result.FailedAttackResult at 0x78c9fb3fc3d0>,\n",
              " <textattack.attack_results.successful_attack_result.SuccessfulAttackResult at 0x78c9fb0eac80>,\n",
              " <textattack.attack_results.failed_attack_result.FailedAttackResult at 0x78ca8f7e9510>,\n",
              " <textattack.attack_results.successful_attack_result.SuccessfulAttackResult at 0x78c9fb0f0b50>,\n",
              " <textattack.attack_results.successful_attack_result.SuccessfulAttackResult at 0x78ca18dbbbe0>,\n",
              " <textattack.attack_results.failed_attack_result.FailedAttackResult at 0x78c9fb03a500>,\n",
              " <textattack.attack_results.successful_attack_result.SuccessfulAttackResult at 0x78c9fb0e8bb0>,\n",
              " <textattack.attack_results.successful_attack_result.SuccessfulAttackResult at 0x78ca901edc60>,\n",
              " <textattack.attack_results.failed_attack_result.FailedAttackResult at 0x78ca18f1a710>,\n",
              " <textattack.attack_results.failed_attack_result.FailedAttackResult at 0x78c9fb0f33d0>,\n",
              " <textattack.attack_results.successful_attack_result.SuccessfulAttackResult at 0x78c9fd536440>,\n",
              " <textattack.attack_results.successful_attack_result.SuccessfulAttackResult at 0x78c9fbec9c60>,\n",
              " <textattack.attack_results.failed_attack_result.FailedAttackResult at 0x78c9fd50f0a0>,\n",
              " <textattack.attack_results.skipped_attack_result.SkippedAttackResult at 0x78c9fd50f9d0>,\n",
              " <textattack.attack_results.successful_attack_result.SuccessfulAttackResult at 0x78ca2af5b310>,\n",
              " <textattack.attack_results.failed_attack_result.FailedAttackResult at 0x78ca2aefd4b0>,\n",
              " <textattack.attack_results.successful_attack_result.SuccessfulAttackResult at 0x78ca272fada0>,\n",
              " <textattack.attack_results.failed_attack_result.FailedAttackResult at 0x78c9fd50f460>,\n",
              " <textattack.attack_results.successful_attack_result.SuccessfulAttackResult at 0x78ca18c00a60>,\n",
              " <textattack.attack_results.failed_attack_result.FailedAttackResult at 0x78ca382117b0>,\n",
              " <textattack.attack_results.skipped_attack_result.SkippedAttackResult at 0x78ca2788ffa0>,\n",
              " <textattack.attack_results.failed_attack_result.FailedAttackResult at 0x78c9fc3aafb0>,\n",
              " <textattack.attack_results.failed_attack_result.FailedAttackResult at 0x78ca2788f070>,\n",
              " <textattack.attack_results.successful_attack_result.SuccessfulAttackResult at 0x78ca18c01270>,\n",
              " <textattack.attack_results.skipped_attack_result.SkippedAttackResult at 0x78c9fd536bf0>]"
            ]
          },
          "metadata": {},
          "execution_count": 55
        }
      ]
    }
  ]
}